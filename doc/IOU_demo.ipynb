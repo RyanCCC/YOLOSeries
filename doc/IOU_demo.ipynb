{
 "cells": [
  {
   "cell_type": "markdown",
   "metadata": {},
   "source": [
    "## IoU及其优化变形\n",
    "\n",
    "本笔记通过python实现IoU以及IoU的优化变形"
   ]
  },
  {
   "cell_type": "markdown",
   "metadata": {},
   "source": [
    "### IoU"
   ]
  },
  {
   "cell_type": "code",
   "execution_count": 1,
   "metadata": {},
   "outputs": [],
   "source": [
    "import tensorflow as tf"
   ]
  },
  {
   "cell_type": "code",
   "execution_count": 7,
   "metadata": {},
   "outputs": [],
   "source": [
    "def IoU(box1, box2):\n",
    "    '''\n",
    "    iou loss\n",
    "    :param box1: tensor [batch, w, h, num_anchor, 4], xywh 预测值，4表示每个检测框的中心点坐标(x, y)和预测框宽高(w, h)。\n",
    "    :param box2: tensor [batch, w, h, num_anchor, 4], xywh 真实值\n",
    "    :return: tensor [batch w, h, num_anchor, 1], xywh真实值\n",
    "    '''\n",
    "    box1_xy, box1_wh = box1[..., :2], box1[..., 2:4]\n",
    "    box1_wh_half = box1_wh//2\n",
    "    box1_min = box1_xy - box1_wh_half\n",
    "    box1_max = box1_xy+box1_wh_half\n",
    "\n",
    "    # 真实框处理\n",
    "    box2_xy, box2_wh = box2[..., :2], box2[..., 2:4]\n",
    "    box2_wh_half = box2_wh//2\n",
    "    box2_min = box2_xy - box2_wh_half\n",
    "    box2_max = box2_xy+box2_wh_half\n",
    "\n",
    "    # 预测框面积\n",
    "    box1_area = box1_wh[..., 0] * box1_wh[..., 1]\n",
    "    box2_area = box2_wh[..., 0] * box2_wh[..., 1]\n",
    "\n",
    "    # 找出交集区域的xy坐标\n",
    "    intersect_min = tf.maximum(box1_min, box2_min)\n",
    "    intersect_max = tf.minimum(box1_max, box2_max)\n",
    "    intersect_wh = tf.maximum(intersect_max-intersect_min, 0)\n",
    "\n",
    "    # 计算交集区域面积\n",
    "    intersect_area = intersect_wh[..., 0] * intersect_wh[..., 1]\n",
    "    # 计算并集区域面积\n",
    "    union_area = box1_area+box2_area-intersect_area\n",
    "\n",
    "    # 计算交并比，注意分母不能为0\n",
    "    iou = intersect_area/(union_area+tf.keras.backend.epsilon())\n",
    "    return iou"
   ]
  },
  {
   "cell_type": "code",
   "execution_count": 6,
   "metadata": {},
   "outputs": [
    {
     "name": "stdout",
     "output_type": "stream",
     "text": [
      "(32, 16, 16, 3)\n",
      "tf.Tensor([0.42608696 0.42608696 0.42608696], shape=(3,), dtype=float32)\n"
     ]
    }
   ],
   "source": [
    "# Test\n",
    "\n",
    "box1 = tf.fill([32, 16, 16, 3, 4], 50.0)\n",
    "box2 = tf.fill([32, 16, 16, 3, 4], 40.0)\n",
    "iou = IoU(box1, box2)\n",
    "print(iou.shape)\n",
    "# 查看某一张图的三个先验框\n",
    "print(iou[0, 0, 0])\n"
   ]
  },
  {
   "cell_type": "markdown",
   "metadata": {},
   "source": [
    "### GIoU\n",
    "\n",
    "对于预测矩形框A 和 真实矩形框 B，计算能够同时包含A和B的最小的封闭矩形区域C。将封闭区域C 的面积减去 A和B的并集面积，再除以C的面积，得到一个比值。Giou就等于iou减去这个比值，公式如下：$$GIoU = IoU - \\frac{C-(A \\bigcup B)}{C}$$\n",
    "\n",
    "GIoU损失的特点：\n",
    "\n",
    "- 能够衡量两个边界框的巨鹿\n",
    "- 不收目标对象大小的限制，具有很好的泛化能力\n",
    "- 引入包含预测框A和真实框B的最小封闭区C，所以即使A和B不相交时，依然可以对检测框优化\n",
    "- 不仅能反映边界框A和B是否有重叠区域，还能反映两个边界框是如何重叠的"
   ]
  },
  {
   "cell_type": "code",
   "execution_count": 9,
   "metadata": {},
   "outputs": [],
   "source": [
    "def GIoU(box1, box2):\n",
    "    '''\n",
    "    iou loss\n",
    "    :param box1: tensor [batch, w, h, num_anchor, 4], xywh 预测值，4表示每个检测框的中心点坐标(x, y)和预测框宽高(w, h)。\n",
    "    :param box2: tensor [batch, w, h, num_anchor, 4], xywh 真实值\n",
    "    :return: tensor [batch w, h, num_anchor, 1], xywh真实值\n",
    "    '''\n",
    "    box1_xy, box1_wh = box1[..., :2], box1[..., 2:4]\n",
    "    box1_wh_half = box1_wh//2\n",
    "    box1_min = box1_xy - box1_wh_half\n",
    "    box1_max = box1_xy+box1_wh_half\n",
    "\n",
    "    # 真实框处理\n",
    "    box2_xy, box2_wh = box2[..., :2], box2[..., 2:4]\n",
    "    box2_wh_half = box2_wh//2\n",
    "    box2_min = box2_xy - box2_wh_half\n",
    "    box2_max = box2_xy+box2_wh_half\n",
    "\n",
    "    # 预测框面积\n",
    "    box1_area = box1_wh[..., 0] * box1_wh[..., 1]\n",
    "    box2_area = box2_wh[..., 0] * box2_wh[..., 1]\n",
    "\n",
    "    # 找出交集区域的xy坐标\n",
    "    intersect_min = tf.maximum(box1_min, box2_min)\n",
    "    intersect_max = tf.minimum(box1_max, box2_max)\n",
    "    intersect_wh = tf.maximum(intersect_max-intersect_min, 0)\n",
    "\n",
    "    # 计算交集区域面积\n",
    "    intersect_area = intersect_wh[..., 0] * intersect_wh[..., 1]\n",
    "    # 计算并集区域面积\n",
    "    union_area = box1_area+box2_area-intersect_area\n",
    "\n",
    "    # 计算交并比，注意分母不能为0\n",
    "    iou = intersect_area/(union_area+tf.keras.backend.epsilon())\n",
    "\n",
    "    # 计算最小封闭矩形框\n",
    "    enclose_min = tf.minimum(box1_min, box2_min)\n",
    "    enclose_max = tf.maximum(box1_max, box2_max)\n",
    "    enclose_wh = enclose_max - enclose_min\n",
    "    # 面积 = ew*eh\n",
    "    enclose_area = enclose_wh[..., 0] * enclose_wh[..., 1]\n",
    "    giou = iou - (enclose_area-union_area)/(enclose_area+tf.keras.backend.epsilon())\n",
    "    return iou, giou"
   ]
  },
  {
   "cell_type": "code",
   "execution_count": 12,
   "metadata": {},
   "outputs": [
    {
     "name": "stdout",
     "output_type": "stream",
     "text": [
      "tf.Tensor([0.3765002 0.3765002 0.3765002], shape=(3,), dtype=float32)\n"
     ]
    }
   ],
   "source": [
    "_, giou = GIoU(box1, box2)\n",
    "print(giou[0,0,0]) "
   ]
  },
  {
   "cell_type": "markdown",
   "metadata": {},
   "source": [
    "### DIoU\n",
    "\n",
    "GIoU的参数更新和优化会很缓慢，因此DIoU在这个基础上加入了中心点归一化，将预测框和真实框之间的距离、重叠率、尺度都考虑进去，能够直接最小化两个预测框之间的距离，使得目标边界框回归变得更加稳定，收敛速度更快。\n",
    "\n",
    "DIoU的公式：$$DIoU = IoU - \\frac{\\rho^2(b, b^{gt})}{c^2} = IoU - \\frac{d^2}{c^2}$$其中$b$表示预测框的中心点坐标， $b^{gt}$表示真实框的中心点坐标，$\\rho$表示两个中心点之间的欧式距离，$c$表示两个目标边界框外接矩形的对角线长度。"
   ]
  },
  {
   "cell_type": "code",
   "execution_count": 18,
   "metadata": {},
   "outputs": [],
   "source": [
    "def DIoU(box1, box2):\n",
    "    '''\n",
    "    iou loss\n",
    "    :param box1: tensor [batch, w, h, num_anchor, 4], xywh 预测值，4表示每个检测框的中心点坐标(x, y)和预测框宽高(w, h)。\n",
    "    :param box2: tensor [batch, w, h, num_anchor, 4], xywh 真实值\n",
    "    :return: tensor [batch w, h, num_anchor, 1], xywh真实值\n",
    "    '''\n",
    "    box1_xy, box1_wh = box1[..., :2], box1[..., 2:4]\n",
    "    box1_wh_half = box1_wh//2\n",
    "    box1_min = box1_xy - box1_wh_half\n",
    "    box1_max = box1_xy+box1_wh_half\n",
    "\n",
    "    # 真实框处理\n",
    "    box2_xy, box2_wh = box2[..., :2], box2[..., 2:4]\n",
    "    box2_wh_half = box2_wh//2\n",
    "    box2_min = box2_xy - box2_wh_half\n",
    "    box2_max = box2_xy+box2_wh_half\n",
    "\n",
    "    # 预测框面积\n",
    "    box1_area = box1_wh[..., 0] * box1_wh[..., 1]\n",
    "    box2_area = box2_wh[..., 0] * box2_wh[..., 1]\n",
    "\n",
    "    # 找出交集区域的xy坐标\n",
    "    intersect_min = tf.maximum(box1_min, box2_min)\n",
    "    intersect_max = tf.minimum(box1_max, box2_max)\n",
    "    intersect_wh = tf.maximum(intersect_max-intersect_min, 0)\n",
    "\n",
    "    # 计算交集区域面积\n",
    "    intersect_area = intersect_wh[..., 0] * intersect_wh[..., 1]\n",
    "    # 计算并集区域面积\n",
    "    union_area = box1_area+box2_area-intersect_area\n",
    "\n",
    "    # 计算交并比，注意分母不能为0\n",
    "    iou = intersect_area/(union_area+tf.keras.backend.epsilon())\n",
    "\n",
    "    # 求出两个框的最小封闭矩形\n",
    "    enclose_min = tf.minimum(box1_min, box2_min)  # 左上坐标\n",
    "    enclose_max = tf.maximum(box1_max, box2_max)  # 右下坐标\n",
    "    enclose_wh = enclose_max - enclose_min  # 封闭矩形的宽高\n",
    " \n",
    "    # 计算对角线距离 w**2 + h**2\n",
    "    enclose_distance = tf.square(enclose_wh[..., 0]) + tf.square(enclose_wh[..., 1])\n",
    " \n",
    "    # ③ 计算两个框中心点之间的距离，计算方法同上\n",
    "    center_distance = tf.reduce_sum(tf.square(box1_xy - box2_xy), axis=-1)\n",
    " \n",
    "    # ④ 计算diou\n",
    "    diou = iou - (center_distance / enclose_distance)\n",
    " \n",
    "    # 返回每个检测框的iou和diou\n",
    "    return iou, diou"
   ]
  },
  {
   "cell_type": "code",
   "execution_count": 19,
   "metadata": {},
   "outputs": [
    {
     "name": "stdout",
     "output_type": "stream",
     "text": [
      "tf.Tensor([0.39302912 0.39302912 0.39302912], shape=(3,), dtype=float32)\n"
     ]
    }
   ],
   "source": [
    "_, diou = DIoU(box1, box2)\n",
    "print(diou[0,0,0]) "
   ]
  },
  {
   "cell_type": "markdown",
   "metadata": {},
   "source": [
    "### CIoU\n",
    "\n",
    "作为一个优秀的回归定位损失应该考虑到三种几何参数：重叠面积、中心点距离、长宽比。CIOU损失关注了边界框长宽比的统一性，因此有更快的收敛速度和更好的性能。长宽比公式：$$\\alpha = \\frac{v}{1-IoU+v}, v=\\frac{4}{\\pi^2}(\\arctan \\frac{w^{gt}}{h^{gt}} - \\arctan \\frac{2}{h})^2$$ CIoU公式：$$IoU - (\\frac{\\rho^2(b, b^{gt})}{c^2}+ac)$$"
   ]
  },
  {
   "cell_type": "code",
   "execution_count": 24,
   "metadata": {},
   "outputs": [],
   "source": [
    "import math\n",
    "def CIoU(box1, box2):\n",
    "    '''\n",
    "    iou loss\n",
    "    :param box1: tensor [batch, w, h, num_anchor, 4], xywh 预测值，4表示每个检测框的中心点坐标(x, y)和预测框宽高(w, h)。\n",
    "    :param box2: tensor [batch, w, h, num_anchor, 4], xywh 真实值\n",
    "    :return: tensor [batch w, h, num_anchor, 1], xywh真实值\n",
    "    '''\n",
    "    box1_xy, box1_wh = box1[..., :2], box1[..., 2:4]\n",
    "    box1_wh_half = box1_wh//2\n",
    "    box1_min = box1_xy - box1_wh_half\n",
    "    box1_max = box1_xy+box1_wh_half\n",
    "\n",
    "    # 真实框处理\n",
    "    box2_xy, box2_wh = box2[..., :2], box2[..., 2:4]\n",
    "    box2_wh_half = box2_wh//2\n",
    "    box2_min = box2_xy - box2_wh_half\n",
    "    box2_max = box2_xy+box2_wh_half\n",
    "\n",
    "    # 预测框面积\n",
    "    box1_area = box1_wh[..., 0] * box1_wh[..., 1]\n",
    "    box2_area = box2_wh[..., 0] * box2_wh[..., 1]\n",
    "\n",
    "    # 找出交集区域的xy坐标\n",
    "    intersect_min = tf.maximum(box1_min, box2_min)\n",
    "    intersect_max = tf.minimum(box1_max, box2_max)\n",
    "    intersect_wh = tf.maximum(intersect_max-intersect_min, 0)\n",
    "\n",
    "    # 计算交集区域面积\n",
    "    intersect_area = intersect_wh[..., 0] * intersect_wh[..., 1]\n",
    "    # 计算并集区域面积\n",
    "    union_area = box1_area+box2_area-intersect_area\n",
    "\n",
    "    # 计算交并比，注意分母不能为0\n",
    "    iou = intersect_area/(union_area+tf.keras.backend.epsilon())\n",
    "\n",
    "    # ② 求出包含两个框的最小封闭矩形\n",
    "    enclose_min = tf.minimum(box1_min, box2_min)  # 左上坐标\n",
    "    enclose_max = tf.maximum(box1_max, box2_max)  # 右下坐标\n",
    " \n",
    "    # 计算对角线距离\n",
    "    enclose_distance = tf.reduce_sum(tf.square(enclose_max - enclose_min), axis=-1)\n",
    " \n",
    "    # 计算两个框中心点之间的距离，计算方法同上\n",
    "    center_distance = tf.reduce_sum(tf.square(box1_xy - box2_xy), axis=-1)\n",
    "    \n",
    "    # ③ 考虑长宽比\n",
    "    # tf.math.atan2()返回[-pi, pi]之间的角度\n",
    "    v = 4 * tf.square(tf.math.atan2(box1_wh[..., 0], box1_wh[..., 1]) - tf.math.atan2(box2_wh[..., 0], box2_wh[..., 1])) / (math.pi * math.pi)\n",
    "    alpha = v / (1.0 - iou + v)\n",
    " \n",
    "    # 计算ciou\n",
    "    ciou = iou - center_distance / enclose_distance - alpha * v\n",
    " \n",
    "    return iou, ciou"
   ]
  },
  {
   "cell_type": "code",
   "execution_count": 25,
   "metadata": {},
   "outputs": [
    {
     "name": "stdout",
     "output_type": "stream",
     "text": [
      "tf.Tensor([0.39302912 0.39302912 0.39302912], shape=(3,), dtype=float32)\n"
     ]
    }
   ],
   "source": [
    "_, ciou = CIoU(box1, box2)\n",
    "print(ciou[0,0,0]) "
   ]
  },
  {
   "cell_type": "markdown",
   "metadata": {},
   "source": [
    "### 参考\n",
    "\n",
    "1. [【目标检测】(11) 预测框定位损失 iou、Giou、Diou、Ciou，附TensorFlow完整代码](https://blog.csdn.net/dgvv4/article/details/124039111)"
   ]
  }
 ],
 "metadata": {
  "kernelspec": {
   "display_name": "Python 3.7.6 ('tf2')",
   "language": "python",
   "name": "python3"
  },
  "language_info": {
   "codemirror_mode": {
    "name": "ipython",
    "version": 3
   },
   "file_extension": ".py",
   "mimetype": "text/x-python",
   "name": "python",
   "nbconvert_exporter": "python",
   "pygments_lexer": "ipython3",
   "version": "3.7.6"
  },
  "orig_nbformat": 4,
  "vscode": {
   "interpreter": {
    "hash": "c6c6e9ad919e43ea991096268ac22857d89ff5f05140928bb8d03f6bb8d6e7c0"
   }
  }
 },
 "nbformat": 4,
 "nbformat_minor": 2
}
