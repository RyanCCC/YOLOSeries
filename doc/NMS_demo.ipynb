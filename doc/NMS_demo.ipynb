{
 "cells": [
  {
   "cell_type": "markdown",
   "metadata": {},
   "source": [
    "## 非极大值抑制(NMS)及其优化实现\n",
    "\n",
    "NMS的实现方法有：\n",
    "1. 纯python实现\n",
    "2. 直接利用Cython模块编译\n",
    "3. 更改变量定义后再利用Cython模块编译\n",
    "4. 在方法3的基础上利用gpu\n",
    "\n",
    "NMS的优化：\n",
    "1. Soft-NMS\n",
    "2. 局部感知NMS\n",
    "3. 倾斜NMS\n",
    "4. 多边形NMS\n",
    "5. 掩膜NMS"
   ]
  },
  {
   "cell_type": "markdown",
   "metadata": {},
   "source": [
    "### NMS实现方式\n",
    "\n",
    "纯python实现"
   ]
  },
  {
   "cell_type": "code",
   "execution_count": 1,
   "metadata": {},
   "outputs": [],
   "source": [
    "import numpy as np\n",
    "\n",
    "def nms_py(dets, thresh):\n",
    "    x1 = dets[:, 0]\n",
    "    y1 = dets[:, 1]\n",
    "    x2 = dets[:, 2]\n",
    "    y2 = dets[:, 3]\n",
    "\n",
    "    areas = (y2-y1+1)*(x2-x1+1)\n",
    "    scores = dets[:, 4]\n",
    "    keep = []\n",
    "    index = scores.argsort()[::-1]\n",
    "    \n",
    "    while index.size>0:\n",
    "\n",
    "        i = index[0]\n",
    "        keep.append(i)\n",
    "\n",
    "        x11 = np.maximum(x1[i], x1[index[1:]])\n",
    "        y11 = np.maximum(y1[i], y1[index[1:]])\n",
    "        x22 = np.maximum(x2[i], x2[index[1:]])\n",
    "        y22 = np.maximum(y2[i], y2[index[1:]])\n",
    "        \n",
    "        w = np.maximum(0, x22-x11+1)\n",
    "        h = np.maximum(0, y22-y11+1)\n",
    "\n",
    "        overlaps = w*h\n",
    "        ious = overlaps/(areas[i]+areas[index[1:]]-overlaps)\n",
    "        idx = np.where(ious<=thresh)[0]\n",
    "        index = index[idx+1]\n",
    "    return keep"
   ]
  },
  {
   "cell_type": "code",
   "execution_count": 7,
   "metadata": {},
   "outputs": [
    {
     "data": {
      "image/png": "[encoded data removed]",
      "text/plain": [
       "<Figure size 432x288 with 1 Axes>"
      ]
     },
     "metadata": {
      "needs_background": "light"
     },
     "output_type": "display_data"
    }
   ],
   "source": [
    "# Test\n",
    "import matplotlib.pyplot as plt\n",
    "\n",
    "boxes = np.array(\n",
    "    [\n",
    "        [100, 100, 210, 210, 0.72],\n",
    "        [250, 250, 420, 420, 0.8],\n",
    "        [220, 220, 320, 330, 0.92],\n",
    "        [100, 100, 210, 210, 0.72],\n",
    "        [230, 240, 325, 330, 0.81],\n",
    "        [220, 230, 315, 340, 0.9]\n",
    "    ]\n",
    ")\n",
    "\n",
    "def plot_bbox(dets, c='k'):\n",
    "    x1 = dets[:, 0]\n",
    "    y1 = dets[:, 1]\n",
    "    x2 = dets[:, 2]\n",
    "    y2 = dets[:, 3]\n",
    "    plt.plot([x1, x2], [y1, y1], c)\n",
    "    plt.plot([x1, x1], [y1, y2], c)\n",
    "    plt.plot([x1, x2], [y2, y2], c)\n",
    "    plt.plot([x2, x2], [y1, y2], c)\n",
    "    plt.title('after nms')\n",
    "\n",
    "plot_bbox(boxes, 'k')\n",
    "keep = nms_py(boxes, thresh=0.7)\n",
    "plot_bbox(boxes[keep], 'r')"
   ]
  },
  {
   "cell_type": "markdown",
   "metadata": {},
   "source": [
    "### 参考\n",
    "\n",
    "1. [Python 非极大值抑制(NMS)的四种实现详解](https://www.wangyeyixia.com/article/1923856.html)"
   ]
  },
  {
   "cell_type": "code",
   "execution_count": null,
   "metadata": {},
   "outputs": [],
   "source": []
  }
 ],
 "metadata": {
  "kernelspec": {
   "display_name": "Python 3.7.6 ('tf2')",
   "language": "python",
   "name": "python3"
  },
  "language_info": {
   "codemirror_mode": {
    "name": "ipython",
    "version": 3
   },
   "file_extension": ".py",
   "mimetype": "text/x-python",
   "name": "python",
   "nbconvert_exporter": "python",
   "pygments_lexer": "ipython3",
   "version": "3.7.6"
  },
  "orig_nbformat": 4,
  "vscode": {
   "interpreter": {
    "hash": "c6c6e9ad919e43ea991096268ac22857d89ff5f05140928bb8d03f6bb8d6e7c0"
   }
  }
 },
 "nbformat": 4,
 "nbformat_minor": 2
}
