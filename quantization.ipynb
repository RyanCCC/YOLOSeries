{
 "cells": [
  {
   "cell_type": "code",
   "execution_count": null,
   "metadata": {},
   "outputs": [],
   "source": [
    "import tensorflow as tf\n",
    "import numpy as np\n",
    "import tensorflow_model_optimization as tfmot\n"
   ]
  },
  {
   "cell_type": "code",
   "execution_count": null,
   "metadata": {},
   "outputs": [],
   "source": [
    "input_shape = [20]\n",
    "x_train = np.random.randn(1, 20).astype(np.float32)\n",
    "y_train = tf.keras.utils.to_categorical(np.random.randn(1), num_classes=20)\n",
    "\n",
    "def setup_model():\n",
    "    model = tf.keras.Sequential([\n",
    "        tf.keras.layers.Dense(20, input_shape=input_shape),\n",
    "        tf.keras.layers.Flatten()\n",
    "    ])\n",
    "    return model\n",
    "\n",
    "def setup_pretrained_weights():\n",
    "    model = setup_model()\n",
    "    model.compile(\n",
    "        loss=tf.keras.losses.categorical_crossentropy,\n",
    "        optimizer='adam',\n",
    "        metrics=['accuracy']\n",
    "    )\n",
    "    model.fit(x_train, y_train)\n",
    "    pretrained_weights = './result/model_without_quantization.tf'\n",
    "    model.save_weights(pretrained_weights)\n",
    "    return pretrained_weights\n",
    "\n",
    "def set_pretrained_model():\n",
    "    model = setup_model()\n",
    "    pretrained_weights = setup_pretrained_weights()\n",
    "    model.load_weights(pretrained_weights)\n",
    "    return model\n",
    "\n",
    "setup_model()\n",
    "pretrained_weights = setup_pretrained_weights()\n"
   ]
  },
  {
   "cell_type": "markdown",
   "metadata": {},
   "source": [
    "## 量化整个模型\n",
    "\n",
    "1. 尝试量化某些对模型性能影响不大的神经层\n",
    "2. 与从头开始训练相比，使用量化感知训练进行微调的效果一般更好 "
   ]
  },
  {
   "cell_type": "code",
   "execution_count": null,
   "metadata": {},
   "outputs": [],
   "source": [
    "base_model = setup_model()\n",
    "base_model.load_weights(pretrained_weights) # optional but recommended for model accuracy\n",
    "\n",
    "quant_aware_model = tfmot.quantization.keras.quantize_model(base_model)\n",
    "quant_aware_model.summary()"
   ]
  },
  {
   "cell_type": "code",
   "execution_count": null,
   "metadata": {},
   "outputs": [],
   "source": []
  }
 ],
 "metadata": {
  "interpreter": {
   "hash": "4c7c5c079346ce5c32a13af6f9c43b51d7027f08e22779c2ee30895e060b5a2d"
  },
  "kernelspec": {
   "display_name": "Python 3.7.6 ('tf2')",
   "language": "python",
   "name": "python3"
  },
  "language_info": {
   "codemirror_mode": {
    "name": "ipython",
    "version": 3
   },
   "file_extension": ".py",
   "mimetype": "text/x-python",
   "name": "python",
   "nbconvert_exporter": "python",
   "pygments_lexer": "ipython3",
   "version": "3.7.6"
  },
  "orig_nbformat": 4
 },
 "nbformat": 4,
 "nbformat_minor": 2
}
